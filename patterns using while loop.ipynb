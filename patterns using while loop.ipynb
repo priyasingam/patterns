{
 "cells": [
  {
   "cell_type": "code",
   "execution_count": 2,
   "id": "e8f40e36",
   "metadata": {
    "scrolled": true
   },
   "outputs": [
    {
     "name": "stdout",
     "output_type": "stream",
     "text": [
      "* * *\n",
      "*   *\n",
      "* * *\n",
      "*   *\n"
     ]
    }
   ],
   "source": [
    "x=1\n",
    "while x<=4:\n",
    "    if x==1:\n",
    "        print(\"* * *\")\n",
    "    elif x==2:\n",
    "        print(\"*   *\")\n",
    "    elif x==3:\n",
    "        print(\"* * *\")\n",
    "    else:\n",
    "        print(\"*   *\")\n",
    "    x=x+1\n",
    "\n",
    "        "
   ]
  },
  {
   "cell_type": "code",
   "execution_count": 3,
   "id": "87ca0fd1",
   "metadata": {},
   "outputs": [
    {
     "name": "stdout",
     "output_type": "stream",
     "text": [
      "***\n",
      "*   *\n",
      "*****\n",
      "*    *\n",
      "****\n"
     ]
    }
   ],
   "source": [
    "x=1\n",
    "while x<=5:\n",
    "    if x==1:\n",
    "        print(\"***\") \n",
    "    elif x==2:\n",
    "        print(\"*   *\")\n",
    "    elif x==3:\n",
    "        print(\"*****\")\n",
    "    elif x==4:\n",
    "        print(\"*    *\")\n",
    "    else:\n",
    "         print(\"****\")\n",
    "    x=x+1 "
   ]
  },
  {
   "cell_type": "code",
   "execution_count": 12,
   "id": "6070a4b1",
   "metadata": {},
   "outputs": [
    {
     "name": "stdout",
     "output_type": "stream",
     "text": [
      "* * *\n",
      "*\n",
      "* * *\n"
     ]
    }
   ],
   "source": [
    "x=1\n",
    "while x<=3:\n",
    "    if x==1:\n",
    "        print(\"* * *\")\n",
    "    elif x==2:\n",
    "        print(\"*\")\n",
    "    else:\n",
    "        print(\"* * *\")\n",
    "    x=x+1\n",
    "        \n",
    "        "
   ]
  },
  {
   "cell_type": "code",
   "execution_count": 16,
   "id": "ef825638",
   "metadata": {},
   "outputs": [
    {
     "name": "stdout",
     "output_type": "stream",
     "text": [
      "* * * \n",
      "*     *\n",
      "*     *\n",
      "*   *\n"
     ]
    }
   ],
   "source": [
    "x=1\n",
    "while x<=4:\n",
    "    if x==1:\n",
    "        print(\"* * * \")\n",
    "    elif x==2:\n",
    "        print(\"*     *\")\n",
    "    elif x==3:\n",
    "        print(\"*     *\")\n",
    "    else:\n",
    "        print(\"*   *\")\n",
    "    x=x+1\n"
   ]
  },
  {
   "cell_type": "code",
   "execution_count": 22,
   "id": "dcce580e",
   "metadata": {},
   "outputs": [
    {
     "name": "stdout",
     "output_type": "stream",
     "text": [
      "*****\n",
      "****\n",
      "* \n"
     ]
    }
   ],
   "source": [
    "x=1\n",
    "while x<=3:\n",
    "    if x==1:\n",
    "        print(\"*****\")\n",
    "    elif x==2:\n",
    "        print(\"****\")\n",
    "    else:\n",
    "        print(\"* \")\n",
    "    x=x+1\n",
    "        "
   ]
  },
  {
   "cell_type": "code",
   "execution_count": 21,
   "id": "3c7f578d",
   "metadata": {},
   "outputs": [
    {
     "name": "stdout",
     "output_type": "stream",
     "text": [
      "* * *  \n",
      "* *   \n",
      "* * * \n"
     ]
    }
   ],
   "source": [
    "x=1\n",
    "while x<=3:\n",
    "    if x==1:\n",
    "        print(\"* * *  \")\n",
    "    elif x==2:\n",
    "        print(\"* *   \")\n",
    "    else:\n",
    "        print(\"* * * \")\n",
    "    x=x+1\n",
    "        "
   ]
  },
  {
   "cell_type": "code",
   "execution_count": 32,
   "id": "5ff4361b",
   "metadata": {},
   "outputs": [
    {
     "name": "stdout",
     "output_type": "stream",
     "text": [
      "****\n",
      "*    \n",
      "*  ***\n",
      "**** *\n"
     ]
    }
   ],
   "source": [
    "x=1\n",
    "while x<=4:\n",
    "    if x==1:\n",
    "        print(\"****\") \n",
    "        \n",
    "    elif x==2:\n",
    "        print(\"*    \")\n",
    "    elif x==3:\n",
    "        print(\"*  ***\")\n",
    "        \n",
    "    else:\n",
    "        print(\"**** *\")\n",
    "    \n",
    "    x=x+1\n",
    "        "
   ]
  },
  {
   "cell_type": "code",
   "execution_count": 9,
   "id": "f3e29be9",
   "metadata": {},
   "outputs": [
    {
     "name": "stdout",
     "output_type": "stream",
     "text": [
      "*   *\n",
      "* * *\n",
      "*   *\n"
     ]
    }
   ],
   "source": [
    "x=1\n",
    "while x<=3:\n",
    "    if x==1:\n",
    "        print(\"*   *\")\n",
    "    elif x==2:\n",
    "        print(\"* * *\")\n",
    "    else:\n",
    "        print(\"*   *\")\n",
    "    x=x+1\n",
    "        "
   ]
  },
  {
   "cell_type": "code",
   "execution_count": 16,
   "id": "59186f48",
   "metadata": {},
   "outputs": [
    {
     "name": "stdout",
     "output_type": "stream",
     "text": [
      "*\n",
      "*\n",
      "*\n",
      "*\n"
     ]
    }
   ],
   "source": [
    "x=1\n",
    "while x<=4:\n",
    "    print(\"*\")\n",
    "    x=x+1"
   ]
  },
  {
   "cell_type": "code",
   "execution_count": 19,
   "id": "098e8c64",
   "metadata": {},
   "outputs": [
    {
     "name": "stdout",
     "output_type": "stream",
     "text": [
      "    *\n",
      "    *\n",
      "* * *\n"
     ]
    }
   ],
   "source": [
    "x=1\n",
    "while x<=3:\n",
    "    if x==1:\n",
    "        print(\"    *\")\n",
    "    elif x==2:\n",
    "        print(\"    *\")\n",
    "    else:\n",
    "        print(\"* * *\")\n",
    "    x=x+1\n",
    "        "
   ]
  },
  {
   "cell_type": "code",
   "execution_count": 24,
   "id": "6dba9e27",
   "metadata": {},
   "outputs": [
    {
     "name": "stdout",
     "output_type": "stream",
     "text": [
      "*   *\n",
      "* *\n",
      "*   *\n"
     ]
    }
   ],
   "source": [
    "x=1\n",
    "while x<=3:\n",
    "    if x==1:\n",
    "        print(\"*   *\")\n",
    "    elif x==2:\n",
    "        print(\"* *\")\n",
    "    else:\n",
    "        print(\"*   *\")\n",
    "    x=x+1\n",
    "        "
   ]
  },
  {
   "cell_type": "code",
   "execution_count": 25,
   "id": "5d929892",
   "metadata": {},
   "outputs": [
    {
     "name": "stdout",
     "output_type": "stream",
     "text": [
      "*\n",
      "*\n",
      "* * *\n"
     ]
    }
   ],
   "source": [
    "x=1\n",
    "while x<=3:\n",
    "    if x==1:\n",
    "        print(\"*\")\n",
    "    elif x==2:\n",
    "        print(\"*\")\n",
    "    else:\n",
    "        print(\"* * *\")\n",
    "    x=x+1\n",
    "        "
   ]
  },
  {
   "cell_type": "code",
   "execution_count": 97,
   "id": "dc2d5299",
   "metadata": {},
   "outputs": [
    {
     "name": "stdout",
     "output_type": "stream",
     "text": [
      "*   *\n",
      "* * *\n",
      "*   *\n"
     ]
    }
   ],
   "source": [
    "x=1\n",
    "while x<=3:\n",
    "    if x==1:\n",
    "        print(\"*   *\")\n",
    "    elif x==2:\n",
    "        print(\"* * *\")\n",
    "        \n",
    "    else:\n",
    "        print(\"*   *\")\n",
    "    x=x+1\n",
    "        "
   ]
  },
  {
   "cell_type": "code",
   "execution_count": 27,
   "id": "9983cb3b",
   "metadata": {},
   "outputs": [
    {
     "name": "stdout",
     "output_type": "stream",
     "text": [
      "*   *\n",
      "* * *\n",
      "*   *\n"
     ]
    }
   ],
   "source": [
    "x=1\n",
    "while x<=3:\n",
    "    if x==1:\n",
    "        print(\"*   *\")\n",
    "    elif x==2:\n",
    "        print(\"* * *\")\n",
    "    else:\n",
    "        print(\"*   *\")\n",
    "    x=x+1\n",
    "        "
   ]
  },
  {
   "cell_type": "code",
   "execution_count": 39,
   "id": "5aa8d281",
   "metadata": {},
   "outputs": [
    {
     "name": "stdout",
     "output_type": "stream",
     "text": [
      "* * *\n",
      "*   *\n",
      "* * *\n"
     ]
    }
   ],
   "source": [
    "x=1\n",
    "while x<=3:\n",
    "    if x==1:\n",
    "        print(\"* * *\") \n",
    "        \n",
    "    elif x==2:\n",
    "        print(\"*   *\")\n",
    "        \n",
    "    else:\n",
    "        print(\"* * *\")\n",
    "    x=x+1\n",
    "        "
   ]
  },
  {
   "cell_type": "code",
   "execution_count": 59,
   "id": "6d8ffa4a",
   "metadata": {},
   "outputs": [
    {
     "name": "stdout",
     "output_type": "stream",
     "text": [
      "* * * \n",
      "*     *\n",
      "*  * *\n",
      "*   \n"
     ]
    }
   ],
   "source": [
    "x=1\n",
    "while x<=4:\n",
    "    if x==1:\n",
    "        print(\"* * * \")\n",
    "    elif x==2: \n",
    "        print(\"*     *\")\n",
    "    elif x==3:\n",
    "        print(\"*  * *\")\n",
    "    else:\n",
    "        print(\"*   \")\n",
    "    x=x+1\n"
   ]
  },
  {
   "cell_type": "code",
   "execution_count": 80,
   "id": "1c1d4d8b",
   "metadata": {},
   "outputs": [
    {
     "name": "stdout",
     "output_type": "stream",
     "text": [
      "* *  *  \n",
      "*     *\n",
      "*   * *\n",
      "* * *  *\n"
     ]
    }
   ],
   "source": [
    "x=1\n",
    "while x<=4:\n",
    "    if x==1:\n",
    "        print(\"* *  *  \")\n",
    "        \n",
    "    elif x==2:\n",
    "        print(\"*     *\")\n",
    "        \n",
    "        \n",
    "    elif x==3:\n",
    "        print(\"*   * *\")\n",
    "        \n",
    "        \n",
    "    else:\n",
    "        print(\"* * *  *\")\n",
    "    x=x+1\n",
    "\n",
    "    "
   ]
  },
  {
   "cell_type": "code",
   "execution_count": 69,
   "id": "0a69baab",
   "metadata": {},
   "outputs": [
    {
     "name": "stdout",
     "output_type": "stream",
     "text": [
      "* * *\n",
      "*    *\n",
      "*  *   \n",
      "*    *\n"
     ]
    }
   ],
   "source": [
    "x=1\n",
    "while x<=4:\n",
    "    if x==1:\n",
    "        print(\"* * *\")\n",
    "    elif x==2:\n",
    "        print(\"*    *\")\n",
    "    elif x==3:\n",
    "        print(\"*  *   \")\n",
    "    else:\n",
    "        print(\"*    *\")\n",
    "    \n",
    "    x=x+1"
   ]
  },
  {
   "cell_type": "code",
   "execution_count": 96,
   "id": "eaafd08d",
   "metadata": {},
   "outputs": [
    {
     "name": "stdout",
     "output_type": "stream",
     "text": [
      "****\n",
      "*    \n",
      " ***\n",
      "    *\n",
      "****\n"
     ]
    }
   ],
   "source": [
    "x=1\n",
    "while x<=5:\n",
    "    if x==1:\n",
    "        print(\"****\") \n",
    "    elif x==2:\n",
    "        print(\"*    \")\n",
    "    elif x==3:\n",
    "        print(\" ***\")\n",
    "    elif x==4:\n",
    "        print(\"    *\")\n",
    "    else:\n",
    "         print(\"****\")\n",
    "    x=x+1 \n",
    "    \n",
    "    "
   ]
  },
  {
   "cell_type": "code",
   "execution_count": 83,
   "id": "17462660",
   "metadata": {},
   "outputs": [
    {
     "name": "stdout",
     "output_type": "stream",
     "text": [
      "* * *\n",
      "  * \n",
      "  * \n"
     ]
    }
   ],
   "source": [
    "x=1\n",
    "while x<=3:\n",
    "    if x==1:\n",
    "        print(\"* * *\")\n",
    "    elif x==2:\n",
    "        print(\"  * \")\n",
    "    else:\n",
    "        print(\"  * \")\n",
    "    x=x+1"
   ]
  },
  {
   "cell_type": "code",
   "execution_count": 3,
   "id": "c13f91e3",
   "metadata": {},
   "outputs": [
    {
     "name": "stdout",
     "output_type": "stream",
     "text": [
      "*   *\n",
      "*   *\n",
      "* * *\n"
     ]
    }
   ],
   "source": [
    "x=1\n",
    "while x<=3:\n",
    "    if x==1:\n",
    "        print(\"*   *\")\n",
    "    elif x==2:\n",
    "        print(\"*   *\")\n",
    "    else:\n",
    "        print(\"* * *\")\n",
    "    x=x+1"
   ]
  },
  {
   "cell_type": "code",
   "execution_count": 4,
   "id": "b0fca1c1",
   "metadata": {},
   "outputs": [
    {
     "name": "stdout",
     "output_type": "stream",
     "text": [
      "*    *\n",
      " *  *\n",
      "  *\n"
     ]
    }
   ],
   "source": [
    "x=1\n",
    "while x<=3:\n",
    "    if x==1:\n",
    "        print(\"*    *\")\n",
    "    elif x==2:\n",
    "        print(\" *  *\")\n",
    "    else:\n",
    "        print(\"  *\")\n",
    "    x=x+1"
   ]
  },
  {
   "cell_type": "code",
   "execution_count": 5,
   "id": "caf7b88e",
   "metadata": {},
   "outputs": [
    {
     "name": "stdout",
     "output_type": "stream",
     "text": [
      "*    *     *\n",
      " *  *  *  *\n",
      "  *      *\n"
     ]
    }
   ],
   "source": [
    "x=1\n",
    "while x<=3:\n",
    "    if x==1:\n",
    "        print(\"*    *     *\")\n",
    "    elif x==2:\n",
    "        print(\" *  *  *  *\")\n",
    "    else:\n",
    "        print(\"  *      *\")\n",
    "    x=x+1"
   ]
  },
  {
   "cell_type": "code",
   "execution_count": 6,
   "id": "445e36dc",
   "metadata": {},
   "outputs": [
    {
     "name": "stdout",
     "output_type": "stream",
     "text": [
      "*    *\n",
      "   *  \n",
      "*    *\n"
     ]
    }
   ],
   "source": [
    "x=1\n",
    "while x<=3:\n",
    "    if x==1:\n",
    "        print(\"*    *\")\n",
    "    elif x==2:\n",
    "        print(\"   *  \")\n",
    "    else:\n",
    "        print(\"*    *\")\n",
    "    x=x+1"
   ]
  },
  {
   "cell_type": "code",
   "execution_count": 12,
   "id": "b533d5aa",
   "metadata": {},
   "outputs": [
    {
     "name": "stdout",
     "output_type": "stream",
     "text": [
      "*    *\n",
      "   *  \n",
      "   *  \n",
      "   *  \n"
     ]
    }
   ],
   "source": [
    "x=1\n",
    "while x<=4:\n",
    "    if x==1:\n",
    "        print(\"*    *\")\n",
    "    elif x==2:\n",
    "        print(\"   *  \")\n",
    "    elif x==3:\n",
    "        print(\"   *  \")\n",
    "    else:\n",
    "        print(\"   *  \")\n",
    "    \n",
    "    x=x+1"
   ]
  },
  {
   "cell_type": "code",
   "execution_count": 13,
   "id": "fb06c265",
   "metadata": {},
   "outputs": [
    {
     "name": "stdout",
     "output_type": "stream",
     "text": [
      "* * *\n",
      "  *  \n",
      "* * *\n"
     ]
    }
   ],
   "source": [
    "x=1\n",
    "while x<=3:\n",
    "    if x==1:\n",
    "        print(\"* * *\")\n",
    "    elif x==2:\n",
    "        print(\"  *  \")\n",
    "    else:\n",
    "        print(\"* * *\")\n",
    "    x=x+1"
   ]
  },
  {
   "cell_type": "code",
   "execution_count": null,
   "id": "e3a93bcc",
   "metadata": {},
   "outputs": [],
   "source": []
  }
 ],
 "metadata": {
  "kernelspec": {
   "display_name": "Python 3 (ipykernel)",
   "language": "python",
   "name": "python3"
  },
  "language_info": {
   "codemirror_mode": {
    "name": "ipython",
    "version": 3
   },
   "file_extension": ".py",
   "mimetype": "text/x-python",
   "name": "python",
   "nbconvert_exporter": "python",
   "pygments_lexer": "ipython3",
   "version": "3.9.12"
  }
 },
 "nbformat": 4,
 "nbformat_minor": 5
}
